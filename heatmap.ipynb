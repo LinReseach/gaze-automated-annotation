{
 "cells": [
  {
   "cell_type": "code",
   "execution_count": 37,
   "id": "6ef72b20",
   "metadata": {},
   "outputs": [
    {
     "data": {
      "text/html": [
       "<div>\n",
       "<style scoped>\n",
       "    .dataframe tbody tr th:only-of-type {\n",
       "        vertical-align: middle;\n",
       "    }\n",
       "\n",
       "    .dataframe tbody tr th {\n",
       "        vertical-align: top;\n",
       "    }\n",
       "\n",
       "    .dataframe thead th {\n",
       "        text-align: right;\n",
       "    }\n",
       "</style>\n",
       "<table border=\"1\" class=\"dataframe\">\n",
       "  <thead>\n",
       "    <tr style=\"text-align: right;\">\n",
       "      <th></th>\n",
       "      <th>pitch</th>\n",
       "      <th>yaw</th>\n",
       "    </tr>\n",
       "  </thead>\n",
       "  <tbody>\n",
       "    <tr>\n",
       "      <th>0</th>\n",
       "      <td>2.871115</td>\n",
       "      <td>-11.265126</td>\n",
       "    </tr>\n",
       "    <tr>\n",
       "      <th>1</th>\n",
       "      <td>3.821655</td>\n",
       "      <td>-32.840333</td>\n",
       "    </tr>\n",
       "    <tr>\n",
       "      <th>2</th>\n",
       "      <td>-2.814201</td>\n",
       "      <td>-14.397558</td>\n",
       "    </tr>\n",
       "    <tr>\n",
       "      <th>3</th>\n",
       "      <td>-6.186623</td>\n",
       "      <td>0.570129</td>\n",
       "    </tr>\n",
       "    <tr>\n",
       "      <th>4</th>\n",
       "      <td>-23.578787</td>\n",
       "      <td>-17.185898</td>\n",
       "    </tr>\n",
       "    <tr>\n",
       "      <th>...</th>\n",
       "      <td>...</td>\n",
       "      <td>...</td>\n",
       "    </tr>\n",
       "    <tr>\n",
       "      <th>8974</th>\n",
       "      <td>-77.188057</td>\n",
       "      <td>-42.628957</td>\n",
       "    </tr>\n",
       "    <tr>\n",
       "      <th>8975</th>\n",
       "      <td>-69.893832</td>\n",
       "      <td>-47.266424</td>\n",
       "    </tr>\n",
       "    <tr>\n",
       "      <th>8976</th>\n",
       "      <td>-80.706587</td>\n",
       "      <td>-35.163914</td>\n",
       "    </tr>\n",
       "    <tr>\n",
       "      <th>8977</th>\n",
       "      <td>-71.288612</td>\n",
       "      <td>-35.553592</td>\n",
       "    </tr>\n",
       "    <tr>\n",
       "      <th>8978</th>\n",
       "      <td>-63.467593</td>\n",
       "      <td>-42.272224</td>\n",
       "    </tr>\n",
       "  </tbody>\n",
       "</table>\n",
       "<p>8577 rows × 2 columns</p>\n",
       "</div>"
      ],
      "text/plain": [
       "          pitch        yaw\n",
       "0      2.871115 -11.265126\n",
       "1      3.821655 -32.840333\n",
       "2     -2.814201 -14.397558\n",
       "3     -6.186623   0.570129\n",
       "4    -23.578787 -17.185898\n",
       "...         ...        ...\n",
       "8974 -77.188057 -42.628957\n",
       "8975 -69.893832 -47.266424\n",
       "8976 -80.706587 -35.163914\n",
       "8977 -71.288612 -35.553592\n",
       "8978 -63.467593 -42.272224\n",
       "\n",
       "[8577 rows x 2 columns]"
      ]
     },
     "execution_count": 37,
     "metadata": {},
     "output_type": "execute_result"
    },
    {
     "data": {
      "image/png": "[encoded data removed]",
      "text/plain": [
       "<Figure size 432x288 with 1 Axes>"
      ]
     },
     "metadata": {
      "needs_background": "light"
     },
     "output_type": "display_data"
    }
   ],
   "source": [
    "import numpy as np\n",
    "import scipy.stats as stats\n",
    "from matplotlib import pyplot as plt\n",
    "import pandas as pd\n",
    "import time\n",
    "from IPython import display\n",
    "f='/Users/chenglinlin/Documents/annotation/gaze_output/simple_mytest6.csv'\n",
    "df1=pd.read_csv(f)[['pitch','yaw']]/3.14*180\n",
    "\n",
    "\n",
    "df1=df1.dropna()\n",
    "pause_time=0.05\n",
    "for xi in range(0,800):\n",
    "    dfx=df1[(0+xi)*10:(1+xi)*10]\n",
    "    samples = dfx.to_numpy()\n",
    "    kde = stats.kde.gaussian_kde(samples.T)\n",
    "    # Regular grid to evaluate kde upon\n",
    "    x_flat = np.r_[-100:100]\n",
    "    y_flat = np.r_[-100:100]\n",
    "    x,y = np.meshgrid(x_flat,y_flat)\n",
    "    grid_coords = np.append(x.reshape(-1,1),y.reshape(-1,1),axis=1)\n",
    "    z = kde(grid_coords.T)\n",
    "    z = z.reshape(200,200)\n",
    "\n",
    "    plt.imshow(z,aspect=x_flat.ptp()/y_flat.ptp(),extent=[-100,100,-100,100])\n",
    "    plt.title(xi+0.33)\n",
    "    display.display(plt.gcf())\n",
    "    display.clear_output(wait=True)\n",
    "#     time.sleep(pause_time)\n",
    "df1"
   ]
  },
  {
   "cell_type": "code",
   "execution_count": 31,
   "id": "e88617e6",
   "metadata": {},
   "outputs": [
    {
     "data": {
      "text/plain": [
       "array([[2.59172395e-170, 4.46192511e-167, 7.04928690e-164, ...,\n",
       "        2.21598810e-191, 6.23832492e-195, 1.61160251e-198],\n",
       "       [1.53512256e-169, 2.64971379e-166, 4.19705107e-163, ...,\n",
       "        1.75702735e-190, 4.95908402e-194, 1.28443990e-197],\n",
       "       [8.76950094e-169, 1.51758550e-165, 2.41002103e-162, ...,\n",
       "        1.34359114e-189, 3.80200298e-193, 9.87295487e-197],\n",
       "       ...,\n",
       "       [1.53782157e-297, 6.17347211e-294, 2.27427201e-290, ...,\n",
       "        1.14682983e-276, 5.49044727e-280, 2.41258171e-283],\n",
       "       [1.40111041e-299, 5.63921015e-296, 2.08282880e-292, ...,\n",
       "        1.43208701e-278, 6.87289643e-282, 3.02756218e-285],\n",
       "       [1.23116507e-301, 4.96803424e-298, 1.83967985e-294, ...,\n",
       "        1.72490718e-280, 8.29820177e-284, 3.66442940e-287]])"
      ]
     },
     "execution_count": 31,
     "metadata": {},
     "output_type": "execute_result"
    }
   ],
   "source": [
    "z"
   ]
  },
  {
   "cell_type": "code",
   "execution_count": 32,
   "id": "d366638c",
   "metadata": {},
   "outputs": [
    {
     "ename": "IndentationError",
     "evalue": "unexpected indent (<ipython-input-32-50a3afdf0428>, line 21)",
     "output_type": "error",
     "traceback": [
      "\u001b[0;36m  File \u001b[0;32m\"<ipython-input-32-50a3afdf0428>\"\u001b[0;36m, line \u001b[0;32m21\u001b[0m\n\u001b[0;31m    y_flat = np.r_[-50:50]\u001b[0m\n\u001b[0m    ^\u001b[0m\n\u001b[0;31mIndentationError\u001b[0m\u001b[0;31m:\u001b[0m unexpected indent\n"
     ]
    }
   ],
   "source": [
    "import numpy as np\n",
    "import scipy.stats as stats\n",
    "from matplotlib import pyplot as plt\n",
    "import pandas as pd\n",
    "import time\n",
    "from IPython import display\n",
    "f='/Users/chenglinlin/Documents/annotation/gaze_output/simple_mytest6.csv'\n",
    "df1=pd.read_csv(f)[['pitch','yaw']]/3.14*180\n",
    "\n",
    "\n",
    "df1=df1.dropna()\n",
    "pause_time=0.2\n",
    "\n",
    "    \n",
    "samples = df1[0:200].to_numpy()\n",
    "kde = stats.kde.gaussian_kde(samples.T)\n",
    "# Regular grid to evaluate kde upon\n",
    "# x_flat = np.r_[samples[:,0].min():samples[:,0].max():200j]\n",
    "# y_flat = np.r_[samples[:,1].min():samples[:,1].max():200j]\n",
    "x_flat = np.r_[-50:50]\n",
    " y_flat = np.r_[-50:50]\n",
    "x,y = np.meshgrid(x_flat,y_flat)\n",
    "grid_coords = np.append(x.reshape(-1,1),y.reshape(-1,1),axis=1)\n",
    "z = kde(grid_coords.T)\n",
    "z = z.reshape(200,200)\n",
    "\n",
    "plt.imshow(z,aspect=x_flat.ptp()/y_flat.ptp(),extent=[-100,100,-100,100])\n",
    "x_flat"
   ]
  },
  {
   "cell_type": "code",
   "execution_count": 33,
   "id": "cdf71832",
   "metadata": {},
   "outputs": [
    {
     "data": {
      "text/plain": [
       "-11.086339295695879"
      ]
     },
     "execution_count": 33,
     "metadata": {},
     "output_type": "execute_result"
    }
   ],
   "source": [
    "samples[:,0].min()"
   ]
  },
  {
   "cell_type": "code",
   "execution_count": null,
   "id": "177ccb15",
   "metadata": {},
   "outputs": [],
   "source": []
  }
 ],
 "metadata": {
  "kernelspec": {
   "display_name": "Python [conda env:psychopy]",
   "language": "python",
   "name": "conda-env-psychopy-py"
  },
  "language_info": {
   "codemirror_mode": {
    "name": "ipython",
    "version": 3
   },
   "file_extension": ".py",
   "mimetype": "text/x-python",
   "name": "python",
   "nbconvert_exporter": "python",
   "pygments_lexer": "ipython3",
   "version": "3.6.15"
  }
 },
 "nbformat": 4,
 "nbformat_minor": 5
}
